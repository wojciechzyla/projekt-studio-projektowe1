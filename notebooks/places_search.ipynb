{
 "cells": [
  {
   "cell_type": "code",
   "execution_count": 10,
   "metadata": {},
   "outputs": [],
   "source": [
    "import os\n",
    "import googlemaps\n",
    "from datetime import datetime\n",
    "import responses\n",
    "\n",
    "gmaps_key = os.environ[\"GMAPS_API_KEY\"]\n",
    "gmaps = googlemaps.Client(key=gmaps_key)"
   ]
  },
  {
   "cell_type": "code",
   "execution_count": 13,
   "metadata": {},
   "outputs": [],
   "source": [
    "user_preferences = {'entertainment':0.51, 'accommodation':0.44, 'shopping':0.39, 'nightlife':0.36, 'culture':0.40, 'car_services':0.33, 'wellness':0.44, 'travel_services':0.42, 'food_and_drink':0.48, 'religion':0.29, 'sports_and_fitness':0.36}\n",
    "user_destination = 'Cracow'\n",
    "user_start_datatime = datetime(2023,6, 1, 13, 00)\n",
    "user_end_datatime = datetime(2023,6, 4, 17, 30)\n",
    "bicycle_travel_accept = False\n",
    "car_travel_accept = True\n",
    "#By default we assumed that user doesn't mind public transport"
   ]
  },
  {
   "cell_type": "code",
   "execution_count": null,
   "metadata": {},
   "outputs": [],
   "source": [
    "#ALGORITHM\n",
    "\n",
    "Input:\n",
    "- categories_probs: a dictionary with keys as place categories and values as probabilities of interest and visiting sequence\n",
    "- start_date: start date of tour\n",
    "- end_date: end date of tour\n",
    "- transportation_mode: preferred mode of transportation (walking, bicycle, car)\n",
    "\n",
    "Output:\n",
    "- A list of tours, one for each day of the tour period, with each tour containing a list of recommended places to visit\n",
    "\n",
    "1. Calculate the total number of places to recommend based on the length of the tour and the preferred transportation mode\n",
    "   1.1. Define a maximum distance to travel between places based on the transportation mode\n",
    "   1.2  Define the maximum number of hours a user is willing to spend traveling in a day\n",
    "   1.3. Calculate the maximum number of places that can be visited based on the tour length and the maximum distance and time needed to spend in this places\n",
    "   1.4. Multiply the maximum number of places by the probabilities of interest for each category to determine how many places to recommend from each category\n",
    "\n",
    "2. Group the recommended places based on their proximity to each other (taking into consideration geographic coordinates)\n",
    "   2.1. Calculate the distance between each pair of places\n",
    "   2.2. Group places that are within the maximum distance of each other into clusters\n",
    "   2.3. For each cluster, recommend the place with the highest rating as the primary destination and the others as alternative options\n",
    "\n",
    "3. For each day of the tour, recommend a tour based on the recommended places and their opening hours\n",
    "   3.1. Sort the recommended places by their rating and opening hours\n",
    "   3.2. Starting from the earliest opening hour, select the next available place that has not been visited yet and add it to the tour\n",
    "   3.3. If there are no more places available, end the tour for the day\n",
    "\n",
    "4. Return the list of tours, each containing the recommended places for each day"
   ]
  },
  {
   "attachments": {},
   "cell_type": "markdown",
   "metadata": {},
   "source": [
    "At the beginning we should approximate the amount of time people statistically spend in chosen category of places.\n",
    "We also should determine approximate hours appropriate to visit such a place, but later we will also verify opening hours.\n",
    "General assumptions about each category of sites.\n",
    "\n",
    "- CATEGORY : TIMESLOT : AVARAGE TIME\n",
    "- nightlife: 21 - 6 : 2h\n",
    "- accommodation - we can suggest some places (taking into consideration budget, distance to the city centre and ratings)\n",
    "- religion - ignore?\n",
    "- transport - ignore?\n",
    "- medicine - ignore?\n",
    "- car services - ignore? (but car mode with suggesting car plot can be considere)\n",
    "- culture: 9 - 19 : 2h\n",
    "- entertainment - 8 - 20 : 3h\n",
    "- food and drink - 7 - 24: 2h\n",
    "- shopping - ignore?\n",
    "- government - ignore?\n",
    "- education - ignore?\n",
    "- home services - ignore\n",
    "- sports and fitness - 8 - 22 : 3h"
   ]
  },
  {
   "cell_type": "code",
   "execution_count": 17,
   "metadata": {},
   "outputs": [
    {
     "data": {
      "text/plain": [
       "21"
      ]
     },
     "execution_count": 17,
     "metadata": {},
     "output_type": "execute_result"
    }
   ],
   "source": [
    "class Category:\n",
    "    def __init__(self, name, ignore, start_time, end_time, duration):\n",
    "        self.name = name\n",
    "        self.ignore = ignore\n",
    "        self.start_time = start_time\n",
    "        self.end_time = end_time\n",
    "        self.duration = duration\n",
    "        \n",
    "nightlife = Category(\"nightlife\", False, 21, 6, 2)\n"
   ]
  },
  {
   "cell_type": "code",
   "execution_count": null,
   "metadata": {},
   "outputs": [],
   "source": []
  }
 ],
 "metadata": {
  "kernelspec": {
   "display_name": "base",
   "language": "python",
   "name": "python3"
  },
  "language_info": {
   "codemirror_mode": {
    "name": "ipython",
    "version": 3
   },
   "file_extension": ".py",
   "mimetype": "text/x-python",
   "name": "python",
   "nbconvert_exporter": "python",
   "pygments_lexer": "ipython3",
   "version": "3.9.13"
  },
  "orig_nbformat": 4
 },
 "nbformat": 4,
 "nbformat_minor": 2
}
