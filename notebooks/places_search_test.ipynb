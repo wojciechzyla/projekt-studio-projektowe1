{
 "cells": [
  {
   "cell_type": "code",
   "execution_count": 71,
   "metadata": {},
   "outputs": [],
   "source": [
    "import os\n",
    "import googlemaps\n",
    "import datetime\n",
    "import responses\n",
    "\n",
    "gmaps_key = os.environ[\"GMAPS_API_KEY\"]\n",
    "gmaps = googlemaps.Client(key=gmaps_key)"
   ]
  },
  {
   "cell_type": "code",
   "execution_count": 37,
   "metadata": {},
   "outputs": [
    {
     "name": "stdout",
     "output_type": "stream",
     "text": [
      "{'destination_addresses': ['Uluru, Petermann NT 0872, Australia', 'Kakadu National Park, Kakadu Hwy, Jabiru NT 0886, Australia', 'Blue Mountains, New South Wales, Australia', 'Australia', 'Pinnacles Dr, Cervantes WA 6511, Australia'], 'origin_addresses': ['Perth WA, Australia', 'Sydney NSW, Australia', 'Melbourne VIC, Australia', 'Adelaide SA, Australia', 'Brisbane QLD, Australia', 'Darwin NT, Australia', 'Hobart TAS 7000, Australia', 'Canberra ACT 2601, Australia'], 'rows': [{'elements': [{'distance': {'text': '2,046 km', 'value': 2045867}, 'duration': {'text': '1 day 1 hour', 'value': 90657}, 'status': 'OK'}, {'distance': {'text': '3,554 km', 'value': 3554302}, 'duration': {'text': '1 day 16 hours', 'value': 144743}, 'status': 'OK'}, {'distance': {'text': '3,819 km', 'value': 3819202}, 'duration': {'text': '1 day 16 hours', 'value': 145788}, 'status': 'OK'}, {'status': 'ZERO_RESULTS'}, {'distance': {'text': '189 km', 'value': 188779}, 'duration': {'text': '2 hours 5 mins', 'value': 7512}, 'status': 'OK'}]}, {'elements': [{'distance': {'text': '2,841 km', 'value': 2840650}, 'duration': {'text': '1 day 5 hours', 'value': 105671}, 'status': 'OK'}, {'distance': {'text': '3,770 km', 'value': 3770379}, 'duration': {'text': '1 day 16 hours', 'value': 144200}, 'status': 'OK'}, {'distance': {'text': '60.7 km', 'value': 60684}, 'duration': {'text': '51 mins', 'value': 3060}, 'status': 'OK'}, {'status': 'ZERO_RESULTS'}, {'distance': {'text': '4,079 km', 'value': 4078987}, 'duration': {'text': '1 day 19 hours', 'value': 153011}, 'status': 'OK'}]}, {'elements': [{'distance': {'text': '2,328 km', 'value': 2327800}, 'duration': {'text': '1 day 0 hours', 'value': 87692}, 'status': 'OK'}, {'distance': {'text': '3,590 km', 'value': 3590356}, 'duration': {'text': '1 day 13 hours', 'value': 132816}, 'status': 'OK'}, {'distance': {'text': '880 km', 'value': 880017}, 'duration': {'text': '8 hours 49 mins', 'value': 31716}, 'status': 'OK'}, {'status': 'ZERO_RESULTS'}, {'distance': {'text': '3,566 km', 'value': 3566136}, 'duration': {'text': '1 day 14 hours', 'value': 135031}, 'status': 'OK'}]}, {'elements': [{'distance': {'text': '1,602 km', 'value': 1601778}, 'duration': {'text': '16 hours 25 mins', 'value': 59104}, 'status': 'OK'}, {'distance': {'text': '2,864 km', 'value': 2864335}, 'duration': {'text': '1 day 5 hours', 'value': 104228}, 'status': 'OK'}, {'distance': {'text': '1,255 km', 'value': 1255080}, 'duration': {'text': '13 hours 45 mins', 'value': 49517}, 'status': 'OK'}, {'status': 'ZERO_RESULTS'}, {'distance': {'text': '2,840 km', 'value': 2840115}, 'duration': {'text': '1 day 6 hours', 'value': 106443}, 'status': 'OK'}]}, {'elements': [{'distance': {'text': '3,247 km', 'value': 3247396}, 'duration': {'text': '1 day 10 hours', 'value': 122726}, 'status': 'OK'}, {'distance': {'text': '3,260 km', 'value': 3260291}, 'duration': {'text': '1 day 10 hours', 'value': 123399}, 'status': 'OK'}, {'distance': {'text': '945 km', 'value': 944803}, 'duration': {'text': '9 hours 42 mins', 'value': 34928}, 'status': 'OK'}, {'status': 'ZERO_RESULTS'}, {'distance': {'text': '4,486 km', 'value': 4485733}, 'duration': {'text': '1 day 23 hours', 'value': 170066}, 'status': 'OK'}]}, {'elements': [{'distance': {'text': '1,964 km', 'value': 1963760}, 'duration': {'text': '19 hours 33 mins', 'value': 70394}, 'status': 'OK'}, {'distance': {'text': '151 km', 'value': 151065}, 'duration': {'text': '1 hour 39 mins', 'value': 5914}, 'status': 'OK'}, {'distance': {'text': '3,852 km', 'value': 3851676}, 'duration': {'text': '1 day 16 hours', 'value': 145187}, 'status': 'OK'}, {'status': 'ZERO_RESULTS'}, {'distance': {'text': '3,651 km', 'value': 3650925}, 'duration': {'text': '1 day 17 hours', 'value': 147196}, 'status': 'OK'}]}, {'elements': [{'distance': {'text': '3,011 km', 'value': 3010865}, 'duration': {'text': '1 day 15 hours', 'value': 139001}, 'status': 'OK'}, {'distance': {'text': '4,273 km', 'value': 4273422}, 'duration': {'text': '2 days 3 hours', 'value': 184125}, 'status': 'OK'}, {'distance': {'text': '1,644 km', 'value': 1644024}, 'duration': {'text': '23 hours 46 mins', 'value': 85530}, 'status': 'OK'}, {'status': 'ZERO_RESULTS'}, {'distance': {'text': '4,249 km', 'value': 4249202}, 'duration': {'text': '2 days 4 hours', 'value': 186341}, 'status': 'OK'}]}, {'elements': [{'distance': {'text': '2,626 km', 'value': 2625658}, 'duration': {'text': '1 day 3 hours', 'value': 98589}, 'status': 'OK'}, {'distance': {'text': '3,770 km', 'value': 3769853}, 'duration': {'text': '1 day 16 hours', 'value': 142767}, 'status': 'OK'}, {'distance': {'text': '289 km', 'value': 288600}, 'duration': {'text': '2 hours 59 mins', 'value': 10754}, 'status': 'OK'}, {'status': 'ZERO_RESULTS'}, {'distance': {'text': '3,864 km', 'value': 3863995}, 'duration': {'text': '1 day 17 hours', 'value': 145928}, 'status': 'OK'}]}], 'status': 'OK'}\n"
     ]
    }
   ],
   "source": [
    "import unittest\n",
    "\n",
    "responses.add(\n",
    "    responses.GET,\n",
    "    \"https://maps.googleapis.com/maps/api/distancematrix/json\",\n",
    "    body='{\"status\":\"OK\",\"rows\":[]}',\n",
    "    status=200,\n",
    "    content_type=\"application/json\",\n",
    ")\n",
    "\n",
    "origins = [\n",
    "    \"Perth, Australia\",\n",
    "    \"Sydney, Australia\",\n",
    "    \"Melbourne, Australia\",\n",
    "    \"Adelaide, Australia\",\n",
    "    \"Brisbane, Australia\",\n",
    "    \"Darwin, Australia\",\n",
    "    \"Hobart, Australia\",\n",
    "    \"Canberra, Australia\",\n",
    "]\n",
    "destinations = [\n",
    "    \"Uluru, Australia\",\n",
    "    \"Kakadu, Australia\",\n",
    "    \"Blue Mountains, Australia\",\n",
    "    \"Bungle Bungles, Australia\",\n",
    "    \"The Pinnacles, Australia\",\n",
    "]\n",
    "\n",
    "matrix = gmaps.distance_matrix(origins, destinations)\n",
    "print(matrix)"
   ]
  },
  {
   "cell_type": "code",
   "execution_count": 51,
   "metadata": {},
   "outputs": [
    {
     "name": "stdout",
     "output_type": "stream",
     "text": [
      "{'destination_addresses': ['Uluru, Petermann NT 0872, Australia', 'Kakadu National Park, Kakadu Hwy, Jabiru NT 0886, Australia', 'Blue Mountains, New South Wales, Australia', 'Australia', 'Pinnacles Dr, Cervantes WA 6511, Australia'], 'origin_addresses': ['Perth WA, Australia', 'Sydney NSW, Australia', 'Melbourne VIC, Australia', 'Adelaide SA, Australia', 'Brisbane QLD, Australia', 'Darwin NT, Australia', 'Hobart TAS 7000, Australia', 'Canberra ACT 2601, Australia'], 'rows': [{'elements': [{'distance': {'text': '2,046 km', 'value': 2045867}, 'duration': {'text': '1 day 1 hour', 'value': 90657}, 'status': 'OK'}, {'distance': {'text': '3,554 km', 'value': 3554302}, 'duration': {'text': '1 day 16 hours', 'value': 144743}, 'status': 'OK'}, {'distance': {'text': '3,819 km', 'value': 3819202}, 'duration': {'text': '1 day 16 hours', 'value': 145788}, 'status': 'OK'}, {'status': 'ZERO_RESULTS'}, {'distance': {'text': '189 km', 'value': 188779}, 'duration': {'text': '2 hours 5 mins', 'value': 7512}, 'status': 'OK'}]}, {'elements': [{'distance': {'text': '2,841 km', 'value': 2840650}, 'duration': {'text': '1 day 5 hours', 'value': 105671}, 'status': 'OK'}, {'distance': {'text': '3,770 km', 'value': 3770379}, 'duration': {'text': '1 day 16 hours', 'value': 144200}, 'status': 'OK'}, {'distance': {'text': '60.7 km', 'value': 60684}, 'duration': {'text': '51 mins', 'value': 3060}, 'status': 'OK'}, {'status': 'ZERO_RESULTS'}, {'distance': {'text': '4,079 km', 'value': 4078987}, 'duration': {'text': '1 day 19 hours', 'value': 153011}, 'status': 'OK'}]}, {'elements': [{'distance': {'text': '2,328 km', 'value': 2327800}, 'duration': {'text': '1 day 0 hours', 'value': 87692}, 'status': 'OK'}, {'distance': {'text': '3,590 km', 'value': 3590356}, 'duration': {'text': '1 day 13 hours', 'value': 132816}, 'status': 'OK'}, {'distance': {'text': '880 km', 'value': 880017}, 'duration': {'text': '8 hours 49 mins', 'value': 31716}, 'status': 'OK'}, {'status': 'ZERO_RESULTS'}, {'distance': {'text': '3,566 km', 'value': 3566136}, 'duration': {'text': '1 day 14 hours', 'value': 135031}, 'status': 'OK'}]}, {'elements': [{'distance': {'text': '1,602 km', 'value': 1601778}, 'duration': {'text': '16 hours 25 mins', 'value': 59104}, 'status': 'OK'}, {'distance': {'text': '2,864 km', 'value': 2864335}, 'duration': {'text': '1 day 5 hours', 'value': 104228}, 'status': 'OK'}, {'distance': {'text': '1,255 km', 'value': 1255080}, 'duration': {'text': '13 hours 45 mins', 'value': 49517}, 'status': 'OK'}, {'status': 'ZERO_RESULTS'}, {'distance': {'text': '2,840 km', 'value': 2840115}, 'duration': {'text': '1 day 6 hours', 'value': 106443}, 'status': 'OK'}]}, {'elements': [{'distance': {'text': '3,247 km', 'value': 3247396}, 'duration': {'text': '1 day 10 hours', 'value': 122726}, 'status': 'OK'}, {'distance': {'text': '3,260 km', 'value': 3260291}, 'duration': {'text': '1 day 10 hours', 'value': 123399}, 'status': 'OK'}, {'distance': {'text': '945 km', 'value': 944803}, 'duration': {'text': '9 hours 42 mins', 'value': 34928}, 'status': 'OK'}, {'status': 'ZERO_RESULTS'}, {'distance': {'text': '4,486 km', 'value': 4485733}, 'duration': {'text': '1 day 23 hours', 'value': 170066}, 'status': 'OK'}]}, {'elements': [{'distance': {'text': '1,964 km', 'value': 1963760}, 'duration': {'text': '19 hours 33 mins', 'value': 70394}, 'status': 'OK'}, {'distance': {'text': '151 km', 'value': 151065}, 'duration': {'text': '1 hour 39 mins', 'value': 5914}, 'status': 'OK'}, {'distance': {'text': '3,852 km', 'value': 3851676}, 'duration': {'text': '1 day 16 hours', 'value': 145187}, 'status': 'OK'}, {'status': 'ZERO_RESULTS'}, {'distance': {'text': '3,651 km', 'value': 3650925}, 'duration': {'text': '1 day 17 hours', 'value': 147196}, 'status': 'OK'}]}, {'elements': [{'distance': {'text': '3,011 km', 'value': 3010865}, 'duration': {'text': '1 day 15 hours', 'value': 139001}, 'status': 'OK'}, {'distance': {'text': '4,273 km', 'value': 4273422}, 'duration': {'text': '2 days 3 hours', 'value': 184125}, 'status': 'OK'}, {'distance': {'text': '1,644 km', 'value': 1644024}, 'duration': {'text': '23 hours 46 mins', 'value': 85530}, 'status': 'OK'}, {'status': 'ZERO_RESULTS'}, {'distance': {'text': '4,249 km', 'value': 4249202}, 'duration': {'text': '2 days 4 hours', 'value': 186341}, 'status': 'OK'}]}, {'elements': [{'distance': {'text': '2,626 km', 'value': 2625658}, 'duration': {'text': '1 day 3 hours', 'value': 98589}, 'status': 'OK'}, {'distance': {'text': '3,770 km', 'value': 3769853}, 'duration': {'text': '1 day 16 hours', 'value': 142767}, 'status': 'OK'}, {'distance': {'text': '289 km', 'value': 288600}, 'duration': {'text': '2 hours 59 mins', 'value': 10754}, 'status': 'OK'}, {'status': 'ZERO_RESULTS'}, {'distance': {'text': '3,864 km', 'value': 3863995}, 'duration': {'text': '1 day 17 hours', 'value': 145928}, 'status': 'OK'}]}], 'status': 'OK'}\n"
     ]
    }
   ],
   "source": [
    "matrix = gmaps.distance_matrix(\n",
    "    origins,\n",
    "    destinations,\n",
    "    mode=\"driving\",\n",
    ")\n",
    "\n",
    "print(matrix)"
   ]
  },
  {
   "cell_type": "code",
   "execution_count": 57,
   "metadata": {},
   "outputs": [],
   "source": [
    "location = (-33.86746, 151.207090)\n",
    "place_type = \"liquor_store\"\n",
    "language = \"en-AU\"\n",
    "region = \"AU\"\n",
    "radius = 100\n",
    "\n",
    "res = gmaps.places(\"restaurant\",\n",
    "            location=location,\n",
    "            radius=radius,\n",
    "            region=region,\n",
    "            language=language,\n",
    "            min_price=1,\n",
    "            max_price=4,\n",
    "            open_now=True,\n",
    "            type=place_type,)"
   ]
  },
  {
   "cell_type": "code",
   "execution_count": 58,
   "metadata": {},
   "outputs": [],
   "source": [
    "place_id = res['results'][0]['place_id']"
   ]
  },
  {
   "cell_type": "code",
   "execution_count": 67,
   "metadata": {},
   "outputs": [
    {
     "name": "stdout",
     "output_type": "stream",
     "text": [
      "{'html_attributions': [], 'result': {'address_components': [{'long_name': '818-820', 'short_name': '818-820', 'types': ['street_number']}, {'long_name': 'George Street', 'short_name': 'George St', 'types': ['route']}, {'long_name': 'Chippendale', 'short_name': 'Chippendale', 'types': ['locality', 'political']}, {'long_name': 'City of Sydney', 'short_name': 'City of Sydney', 'types': ['administrative_area_level_2', 'political']}, {'long_name': 'New South Wales', 'short_name': 'NSW', 'types': ['administrative_area_level_1', 'political']}, {'long_name': 'Australia', 'short_name': 'AU', 'types': ['country', 'political']}, {'long_name': '2000', 'short_name': '2000', 'types': ['postal_code']}], 'adr_address': '<span class=\"street-address\">818-820 George St</span>, <span class=\"locality\">Chippendale</span> <span class=\"region\">NSW</span> <span class=\"postal-code\">2000</span>, <span class=\"country-name\">Australia</span>', 'business_status': 'OPERATIONAL', 'curbside_pickup': True, 'current_opening_hours': {'open_now': True, 'periods': [{'close': {'date': '2023-04-16', 'day': 0, 'time': '2200'}, 'open': {'date': '2023-04-16', 'day': 0, 'time': '1200'}}, {'close': {'date': '2023-04-17', 'day': 1, 'time': '2200'}, 'open': {'date': '2023-04-17', 'day': 1, 'time': '1200'}}, {'close': {'date': '2023-04-11', 'day': 2, 'time': '2200'}, 'open': {'date': '2023-04-11', 'day': 2, 'time': '1200'}}, {'close': {'date': '2023-04-12', 'day': 3, 'time': '2200'}, 'open': {'date': '2023-04-12', 'day': 3, 'time': '1200'}}, {'close': {'date': '2023-04-13', 'day': 4, 'time': '2200'}, 'open': {'date': '2023-04-13', 'day': 4, 'time': '1200'}}, {'close': {'date': '2023-04-14', 'day': 5, 'time': '2200'}, 'open': {'date': '2023-04-14', 'day': 5, 'time': '1200'}}, {'close': {'date': '2023-04-15', 'day': 6, 'time': '2200'}, 'open': {'date': '2023-04-15', 'day': 6, 'time': '1200'}}], 'weekday_text': ['Monday: 12:00\\u2009–\\u200910:00\\u202fPM', 'Tuesday: 12:00\\u2009–\\u200910:00\\u202fPM', 'Wednesday: 12:00\\u2009–\\u200910:00\\u202fPM', 'Thursday: 12:00\\u2009–\\u200910:00\\u202fPM', 'Friday: 12:00\\u2009–\\u200910:00\\u202fPM', 'Saturday: 12:00\\u2009–\\u200910:00\\u202fPM', 'Sunday: 12:00\\u2009–\\u200910:00\\u202fPM']}, 'delivery': True, 'dine_in': True, 'editorial_summary': {'language': 'en', 'overview': 'Open-plan hotel venue with modern, red-&-black decor offering craft beer & classic pub food.'}, 'formatted_address': '818-820 George St, Chippendale NSW 2000, Australia', 'formatted_phone_number': '(02) 9217 6705', 'geometry': {'location': {'lat': -33.883942, 'lng': 151.2031165}, 'viewport': {'northeast': {'lat': -33.8824902697085, 'lng': 151.2043814802915}, 'southwest': {'lat': -33.88518823029149, 'lng': 151.2016835197085}}}, 'icon': 'https://maps.gstatic.com/mapfiles/place_api/icons/v1/png_71/bar-71.png', 'icon_background_color': '#FF9E67', 'icon_mask_base_uri': 'https://maps.gstatic.com/mapfiles/place_api/icons/v2/bar_pinlet', 'international_phone_number': '+61 2 9217 6705', 'name': \"Eve's Bar\", 'opening_hours': {'open_now': True, 'periods': [{'close': {'day': 0, 'time': '2200'}, 'open': {'day': 0, 'time': '1200'}}, {'close': {'day': 1, 'time': '2200'}, 'open': {'day': 1, 'time': '1200'}}, {'close': {'day': 2, 'time': '2200'}, 'open': {'day': 2, 'time': '1200'}}, {'close': {'day': 3, 'time': '2200'}, 'open': {'day': 3, 'time': '1200'}}, {'close': {'day': 4, 'time': '2200'}, 'open': {'day': 4, 'time': '1200'}}, {'close': {'day': 5, 'time': '2200'}, 'open': {'day': 5, 'time': '1200'}}, {'close': {'day': 6, 'time': '2200'}, 'open': {'day': 6, 'time': '1200'}}], 'weekday_text': ['Monday: 12:00\\u2009–\\u200910:00\\u202fPM', 'Tuesday: 12:00\\u2009–\\u200910:00\\u202fPM', 'Wednesday: 12:00\\u2009–\\u200910:00\\u202fPM', 'Thursday: 12:00\\u2009–\\u200910:00\\u202fPM', 'Friday: 12:00\\u2009–\\u200910:00\\u202fPM', 'Saturday: 12:00\\u2009–\\u200910:00\\u202fPM', 'Sunday: 12:00\\u2009–\\u200910:00\\u202fPM']}, 'photos': [{'height': 1880, 'html_attributions': ['<a href=\"https://maps.google.com/maps/contrib/101948608516560838782\">Eve&#39;s Bar</a>'], 'photo_reference': 'AUjq9jnabiVE70oRQAXiiTsXcNbFEB9SBIAHUCSR01cpZoF_RmB6-a4RdocqfUucFC-QJlb-FdnJ54gMsmKgxft55gr3RZju9fCQ9asXCMiK0sib7o7yhXBZA0dsKjvZ0r--wEDnqo0JItKLahvBr_dqnGm3YUU6pJhtj4XurEgXRK45vSo', 'width': 3238}, {'height': 1066, 'html_attributions': ['<a href=\"https://maps.google.com/maps/contrib/101948608516560838782\">Eve&#39;s Bar</a>'], 'photo_reference': 'AUjq9jlMjGNHW8s7929XN5VLdOnOqlCFjWsZ-41FhCW2avjJWS40kvAu_rZY6o4DP6vKcFnDtiyFqCirhhR7JyBuPaSCT7a7cqlVyXiDStKq5aWO42bhFvzlkHi9wZj3F10d88HbFYF52utJLeV1c0na3mryOSMnA2R_JeQVVpawkqzX7_s', 'width': 1600}, {'height': 1080, 'html_attributions': ['<a href=\"https://maps.google.com/maps/contrib/101948608516560838782\">Eve&#39;s Bar</a>'], 'photo_reference': 'AUjq9jkQnfPIte56WZqX2vdmmwGLzaFRNMTl_VglvEOtT7FME0AGRYO7h1dnf2fWabGzI0fSroENyifq-SC1X_o9l0qm5k4mwJ2WA9T5ZG4w5Xvg6C2_IAq8MrdpU8XWgAGDhJx8hJ1oqTJUJKnpbpjlYAPZPiVZQ1o4KYnPBkEoyr66FOw', 'width': 1080}, {'height': 1908, 'html_attributions': ['<a href=\"https://maps.google.com/maps/contrib/105796965802702846197\">Gary Bulger</a>'], 'photo_reference': 'AUjq9jko1fxLo50EVbiG6yDagJjDsu17hpFgJbqgz4TInXnanfZS_mLTU11Yt6hFaNdybYJxXE6hU2vngUzsdrNZkfjc4MnfYrMPLSlAcBHalYp2R9uxTkQNPv-K2MJLiD5I91e_RQu4g7hm-a-AF6vM-3DTNVvGH29V-PtLnXXRNef9Jl72', 'width': 4032}, {'height': 4032, 'html_attributions': ['<a href=\"https://maps.google.com/maps/contrib/105282108398446222938\">Nath Tien</a>'], 'photo_reference': 'AUjq9jkQ3f0PKmcTZB2518LkEb5ZusyNTj3qCsJvb_ILpib3De2OIQxCFLqhUYFMwhXCzImcUdkcwVpHdJUqRSQT0YWPe0ROkbZMQA--gFDhsyJV6EZ3mwGpnc50XNBqYUqyNrADd2wX7ekiX2NDW1EqBgR4bXorcKsckDJz6DU3nT7rSJqL', 'width': 3024}, {'height': 1066, 'html_attributions': ['<a href=\"https://maps.google.com/maps/contrib/101948608516560838782\">Eve&#39;s Bar</a>'], 'photo_reference': 'AUjq9jlUb3MjG8zcD2cS3UvYbfIPWF5jCh8d37dE9NtYOqhnIlOemn-vckNpY0g1c8EU1yUKfd_3oUtg2SlE1lgVjih1HzXXV3ztR1YWDMatol0XaeNKeY1hqNbVZ5xRqgTxWclU_lrrq9JiiAtktYwOs4nRMI0xKjCDyezW_yfWZE0J3FI', 'width': 1600}, {'height': 4032, 'html_attributions': ['<a href=\"https://maps.google.com/maps/contrib/101948608516560838782\">Eve&#39;s Bar</a>'], 'photo_reference': 'AUjq9jkFT1vik5qVcmBa8Hf_oynqGptvQfBnIIrEQ8a7F2Arrhak7BE200M-KliJHvxs0h8Ca0EHL54-7DN4KGC9ixYgVCFKSlp5o-s8Pd579Zke33a7f6Cp4JioLXX9VBMOQvMEM1XK4bVmG6s_TRYT-3P0XoOJRTcI2Y-dweieuWIZ6zw', 'width': 3024}, {'height': 4032, 'html_attributions': ['<a href=\"https://maps.google.com/maps/contrib/112373526482761875056\">Adventuressjamie</a>'], 'photo_reference': 'AUjq9jkTJA9MVr92ekAviezMkmCG3RUPoN4Qsn7h6IgOc6egDX0xQy5oOnMQQx8h9deufe20hcEFMpjSxlCKFLMtKTvZqRs8LdY4EoqYlneW0oppQxrAiFSyQdpthvIQOQWNl3oANmfrXfUcFCSx7i4sEP0MX1fZ0CiYCYZZmOa26Dt4XAG9', 'width': 3024}, {'height': 3024, 'html_attributions': ['<a href=\"https://maps.google.com/maps/contrib/101179471869799027896\">Jonathan Guy</a>'], 'photo_reference': 'AUjq9jkYS_5fVk3ToWAjC3eCEMJCxqpx4r-szEJRtN7gyzrGAh-lgdxSB6jZJsAsU6TteWg0vnR_zv0TVzh30HtK6i9lU4809_tafaF2lo7pcMkiEJX5HqfIFE86sid9XAKa0Udog6xiy_n4eEazBfBbfAjQu1Vj7OROo0YJiI0FVkaa_5PL', 'width': 4032}, {'height': 1067, 'html_attributions': ['<a href=\"https://maps.google.com/maps/contrib/101948608516560838782\">Eve&#39;s Bar</a>'], 'photo_reference': 'AUjq9jk40HWP7Smm5R3gwNdnEa2hP8dhev_YV3CGPAO-PC7yqrmM2yrrQbMgVratgXNI0xle67eKLI7tng_0fhejxix8P4694MBc1MUyp0CwFwXd5n_LeYOwdcz6QvmRmLZYS8jKuM-08UJseQ7d1awTLRW8rXBH8iDtZceiUphnrJ1C-KM', 'width': 1600}], 'place_id': 'ChIJAScF6iauEmsR6Y0Z5DY0fvs', 'plus_code': {'compound_code': '4683+C6 Chippendale NSW, Australia', 'global_code': '4RRH4683+C6'}, 'price_level': 2, 'rating': 4.2, 'reference': 'ChIJAScF6iauEmsR6Y0Z5DY0fvs', 'reservable': True, 'reviews': [{'author_name': 'Nguyên Trịnh Thanh', 'author_url': 'https://www.google.com/maps/contrib/109345074018360695910/reviews', 'language': 'en', 'original_language': 'en', 'profile_photo_url': 'https://lh3.googleusercontent.com/a/AGNmyxbD68Huhi-tcH8l7-9P31tUKnbb0mF6Npn63tOC=s128-c0x00000000-cc-rp-mo', 'rating': 5, 'relative_time_description': 'a month ago', 'text': 'The nice restaurant I’ve ever had in Sydney. I had dinner here with my beloved friend. I really enjoyed the foods with course meals. It’s delicious! Not much waiting once we placed the order. The foods was delicious and the service was nice. We will come back! Recommended!!!', 'time': 1678345935, 'translated': False}, {'author_name': '2289', 'author_url': 'https://www.google.com/maps/contrib/107028781704344182391/reviews', 'language': 'en', 'original_language': 'en', 'profile_photo_url': 'https://lh3.googleusercontent.com/a-/ACB-R5SRRtI8w2q-ltAuFICHvaX6rOhC9GkqBOPxfwRNPw=s128-c0x00000000-cc-rp-mo-ba3', 'rating': 4, 'relative_time_description': '9 months ago', 'text': 'Great happy hour buys after a tiring day. Bought the beef and cheese burger for a $20 and loved it.\\nVery relaxing, friendly staff even though they messed up the drink orders a couple of times forgetting it was happy hour.', 'time': 1656399617, 'translated': False}, {'author_name': 'Martin Frinking', 'author_url': 'https://www.google.com/maps/contrib/114947851042422019113/reviews', 'language': 'en', 'original_language': 'en', 'profile_photo_url': 'https://lh3.googleusercontent.com/a-/ACB-R5Q5Am3uD1RXB2ZVLfwN83Gt55QEBseLxV203Ox4fQ=s128-c0x00000000-cc-rp-mo-ba4', 'rating': 4, 'relative_time_description': '2 months ago', 'text': 'Great location and it was pretty quiet for lunch. Loved the ambiance, which is surprising since it’s a hotel bar.\\n\\nThe lunch specials are especially good value. We both had a schnitzel, me a parmigiana, and got a drink along with it too, all for just $18.00 each. Great value for money. Food took a while to get there but couldn’t fault it.', 'time': 1674731167, 'translated': False}, {'author_name': 'Gary Bulger', 'author_url': 'https://www.google.com/maps/contrib/105796965802702846197/reviews', 'language': 'en', 'original_language': 'en', 'profile_photo_url': 'https://lh3.googleusercontent.com/a-/ACB-R5TSyerIhhITRoqeqsr9j11r-U_UZLW5IPGopsfygA=s128-c0x00000000-cc-rp-mo-ba4', 'rating': 4, 'relative_time_description': '3 months ago', 'text': \"Lunchtime visit, now offering weekday lunchtime specials. We got the chicken parmigiana and Sydney Brewery IPA for $18 which were both very tasty. Chicken was thick and juicy. Much better value than last lunchtime visit which cost over $9 for a Schooner of Toohey's New. Everywhere should offer lunch deals, they're the places people are drawn to!\", 'time': 1672766268, 'translated': False}, {'author_name': 'Dan S', 'author_url': 'https://www.google.com/maps/contrib/114196452822902280461/reviews', 'language': 'en', 'original_language': 'en', 'profile_photo_url': 'https://lh3.googleusercontent.com/a/AGNmyxZvXPzIyanXIbXh16B8z_HndsYvzdDoKvCkvll0=s128-c0x00000000-cc-rp-mo-ba4', 'rating': 2, 'relative_time_description': 'a month ago', 'text': 'Not a great vibe. Service was lacking a little. Fine for a hotel bar but not somewhere you would choose to go to for drinks', 'time': 1677054960, 'translated': False}], 'serves_beer': True, 'serves_wine': True, 'takeout': True, 'types': ['bar', 'liquor_store', 'store', 'restaurant', 'food', 'point_of_interest', 'establishment'], 'url': 'https://maps.google.com/?cid=18121979360945212905', 'user_ratings_total': 109, 'utc_offset': 600, 'vicinity': '818-820 George Street, Chippendale', 'wheelchair_accessible_entrance': True}, 'status': 'OK'}\n"
     ]
    }
   ],
   "source": [
    "res = gmaps.place(place_id=place_id)\n",
    "print(res)"
   ]
  },
  {
   "cell_type": "code",
   "execution_count": 70,
   "metadata": {},
   "outputs": [
    {
     "data": {
      "text/plain": [
       "600"
      ]
     },
     "execution_count": 70,
     "metadata": {},
     "output_type": "execute_result"
    }
   ],
   "source": [
    "duration = res['result']['utc_offset']\n",
    "duration"
   ]
  }
 ],
 "metadata": {
  "kernelspec": {
   "display_name": "base",
   "language": "python",
   "name": "python3"
  },
  "language_info": {
   "codemirror_mode": {
    "name": "ipython",
    "version": 3
   },
   "file_extension": ".py",
   "mimetype": "text/x-python",
   "name": "python",
   "nbconvert_exporter": "python",
   "pygments_lexer": "ipython3",
   "version": "3.9.13"
  },
  "orig_nbformat": 4
 },
 "nbformat": 4,
 "nbformat_minor": 2
}
