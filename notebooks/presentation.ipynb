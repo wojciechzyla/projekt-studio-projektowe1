{
 "cells": [
  {
   "cell_type": "code",
   "execution_count": 2,
   "metadata": {},
   "outputs": [],
   "source": [
    "import os\n",
    "import sys\n",
    "module_path = os.path.abspath(os.path.join('..'))\n",
    "if module_path not in sys.path:\n",
    "    sys.path.append(module_path)\n",
    "\n",
    "from my_nlp_module.user_preferences import UserPreferences\n",
    "from my_nlp_module.similarities_calculation import SentenceTransformerSimilarity\n",
    "from sentence_transformers import SentenceTransformer\n",
    "import json\n",
    "from my_nlp_module.preprocessing import PrepOption\n"
   ]
  },
  {
   "cell_type": "code",
   "execution_count": 2,
   "metadata": {},
   "outputs": [],
   "source": [
    "model = SentenceTransformer('all-MiniLM-L6-v2')"
   ]
  },
  {
   "cell_type": "code",
   "execution_count": 3,
   "metadata": {},
   "outputs": [],
   "source": [
    "templates = {}\n",
    "with open(\"../json/templates.json\") as f:\n",
    "    templates = json.load(f)\n",
    "\n",
    "options = [PrepOption.NUMBERS, PrepOption.LOWERCASE, PrepOption.RUBBISH, PrepOption.INTERPUNCTION]\n",
    "calculations = SentenceTransformerSimilarity(model, [])"
   ]
  },
  {
   "cell_type": "code",
   "execution_count": 4,
   "metadata": {},
   "outputs": [],
   "source": [
    "users = []\n",
    "users_path = \"../users/user\"\n",
    "for i in range(1,5):\n",
    "    user_p = users_path + f\"{i}\"\n",
    "    u = UserPreferences(templates=templates, calculation=calculations)\n",
    "    for j in range(1, 6):\n",
    "        file_path = user_p + f\"/text{j}.txt\"\n",
    "        inp = \"\"\n",
    "        with open(file_path) as f:\n",
    "            inp = f.read()\n",
    "        u.add_text(inp)\n",
    "    u.calculate_preferences()\n",
    "    users.append(u)"
   ]
  },
  {
   "cell_type": "code",
   "execution_count": 7,
   "metadata": {},
   "outputs": [
    {
     "name": "stdout",
     "output_type": "stream",
     "text": [
      "['You are a traveler who wants to enjoy some night life, do a lot of shopping and stay in expensive places']\n",
      "['shopping', 'culture', 'nightlife', 'car_services', 'wellness', 'family_entertainment', 'travel_services', 'judaism', 'food_and_drink', 'christianity', 'hinduism', 'islam', 'sports_and_fitness']\n",
      "\n",
      "\n",
      "\n",
      "[\"You are a traveler who wants to visit natural sights, and experience culture. You would also like to try local food. You are also a religious person and you can't miss a mass. You can afford moderate prices\"]\n",
      "['culture', 'christianity', 'family_entertainment', 'food_and_drink', 'judaism', 'wellness', 'travel_services', 'car_services', 'nightlife', 'hinduism', 'sports_and_fitness', 'islam', 'shopping']\n",
      "\n",
      "\n",
      "\n",
      "['You are a traveler who likes using a car while traveling. You fancy sport activities, historical sights and after the long day you want to relax in spa. You absolutely dislike pubs, parties and drinking']\n",
      "['wellness', 'culture', 'sports_and_fitness', 'car_services', 'nightlife', 'family_entertainment', 'food_and_drink', 'judaism', 'shopping', 'christianity', 'hinduism', 'islam', 'travel_services']\n",
      "\n",
      "\n",
      "\n",
      "['You are a traveller who travels with family. You want to visit some amusement parks, try local food. You would like to rent a car so that you can get around easily. You are also a Jew and it is important for you to visit jewish religious places.']\n",
      "['judaism', 'food_and_drink', 'family_entertainment', 'car_services', 'culture', 'nightlife', 'christianity', 'sports_and_fitness', 'hinduism', 'shopping', 'islam', 'wellness', 'travel_services']\n",
      "\n",
      "\n",
      "\n"
     ]
    }
   ],
   "source": [
    "user_summary = {}\n",
    "with open(\"../users/summary.json\") as f:\n",
    "    user_summary = json.load(f)\n",
    "\n",
    "def n_exp(x):\n",
    "    if \"expensive\" not in x and \"cheap\" not in x:\n",
    "        return True\n",
    "    else:\n",
    "        return False\n",
    "\n",
    "for i, u in enumerate(users):\n",
    "    summary = user_summary[f\"user{i+1}\"]\n",
    "    sim = u.get_preferences()\n",
    "    attr = []\n",
    "    for k, v in sim.items():\n",
    "        attr.append([k, v])\n",
    "    attr = map(lambda a: a[0], sorted(attr, key=lambda x: x[1], reverse=True))\n",
    "    not_expenses = filter(n_exp, list(attr))\n",
    "    not_expenses = list(not_expenses)\n",
    "    print(summary)\n",
    "    print(list(not_expenses))\n",
    "    #print(f\"cheap travel: {sim['cheap_travel']} | expensive travel: {sim['expensive_travel']}\")\n",
    "    print(\"\\n\\n\")"
   ]
  },
  {
   "cell_type": "code",
   "execution_count": 4,
   "metadata": {},
   "outputs": [
    {
     "data": {
      "application/vnd.jupyter.widget-view+json": {
       "model_id": "d7a7477f9d3e4b80a4ce18d52fa7d85e",
       "version_major": 2,
       "version_minor": 0
      },
      "text/plain": [
       "Figure(layout=FigureLayout(height='420px'))"
      ]
     },
     "metadata": {},
     "output_type": "display_data"
    },
    {
     "name": "stdout",
     "output_type": "stream",
     "text": [
      "For this day we prepare for you such a places to see:\n",
      "Margo\n",
      "Glamour Hair & Beauty Studio\n",
      "\n",
      "\n",
      "Here is link to google maps for your daily trip:\n",
      "https://www.google.com/maps/dir/?api=1&origin=Margo&origin_place_id=ChIJ46bH8gZbFkcRUvyF2788O4s&destination=Margo&destination_place_id=ChIJ00LfVhhbFkcRstvrI_nB3Tg&wtravelmodeatravelmodeltravelmodektravelmodeitravelmodentravelmodeg\n"
     ]
    },
    {
     "data": {
      "application/vnd.jupyter.widget-view+json": {
       "model_id": "b7ee7b6b318c4c818884e63b2a0640b2",
       "version_major": 2,
       "version_minor": 0
      },
      "text/plain": [
       "Figure(layout=FigureLayout(height='420px'))"
      ]
     },
     "metadata": {},
     "output_type": "display_data"
    },
    {
     "name": "stdout",
     "output_type": "stream",
     "text": [
      "For this day we prepare for you such a places to see:\n",
      "Marshal Józef Piłsudski Stadium\n",
      "Da Marco\n",
      "Lustrzany Labirynt\n",
      "Finger Guest Rooms Krakow Apartment nearby Main Railway and Bus Station\n",
      "\n",
      "\n",
      "Here is link to google maps for your daily trip:\n",
      "https://www.google.com/maps/dir/?api=1&origin=MarshalJózefPiłsudskiStadium&origin_place_id=ChIJHYeWQHVbFkcRdtszia3pM-c&destination=MarshalJózefPiłsudskiStadium&destination_place_id=ChIJffXetgRbFkcRR3C4egcgn7k&waypoints=DaMarco%7CLustrzanyLabirynt&waypoint_place_ids=ChIJIzPsbyZbFkcRG4q-kl94-hY%7CChIJEcaQbxJbFkcR3p5Xq9m9dEE&wtravelmodeatravelmodeltravelmodektravelmodeitravelmodentravelmodeg\n"
     ]
    },
    {
     "data": {
      "application/vnd.jupyter.widget-view+json": {
       "model_id": "d7ad8e5d62544456bca464a28d74bcb0",
       "version_major": 2,
       "version_minor": 0
      },
      "text/plain": [
       "Figure(layout=FigureLayout(height='420px'))"
      ]
     },
     "metadata": {},
     "output_type": "display_data"
    },
    {
     "name": "stdout",
     "output_type": "stream",
     "text": [
      "For this day we prepare for you such a places to see:\n",
      "Vulkan Vegas\n",
      "Bagelmama\n",
      "Bowling Plac Nowy 1\n",
      "PROMINENT The Original Lounge Bar\n",
      "\n",
      "\n",
      "Here is link to google maps for your daily trip:\n",
      "https://www.google.com/maps/dir/?api=1&origin=VulkanVegas&origin_place_id=ChIJOyCKgsdbFkcRHejUXxs7Idc&destination=VulkanVegas&destination_place_id=ChIJn7kHJwJbFkcRJINcVOHZymY&waypoints=Bagelmama%7CBowlingPlacNowy1&waypoint_place_ids=ChIJI4mbTEBbFkcRcbtQVRbnECI%7CChIJN9gUQ2pbFkcRqYBm4piv9DM&wtravelmodeatravelmodeltravelmodektravelmodeitravelmodentravelmodeg\n"
     ]
    },
    {
     "data": {
      "application/vnd.jupyter.widget-view+json": {
       "model_id": "619eb899a8c04956a5967d4ad09da5c0",
       "version_major": 2,
       "version_minor": 0
      },
      "text/plain": [
       "Figure(layout=FigureLayout(height='420px'))"
      ]
     },
     "metadata": {},
     "output_type": "display_data"
    },
    {
     "name": "stdout",
     "output_type": "stream",
     "text": [
      "For this day we prepare for you such a places to see:\n",
      "Rynek Główny\n",
      "Galicia Jewish Museum\n",
      "\n",
      "\n",
      "Here is link to google maps for your daily trip:\n",
      "https://www.google.com/maps/dir/?api=1&origin=RynekGłówny&origin_place_id=ChIJZ9pVBBJbFkcRMw11Gwf1x8M&destination=RynekGłówny&destination_place_id=ChIJJTpNOkBbFkcRKL9LUcJ4bJQ&wtravelmodeatravelmodeltravelmodektravelmodeitravelmodentravelmodeg\n",
      "\n",
      "\n",
      "Other places, which can be interesting for you:\n",
      "Galeria Anna, współrzędne: (50.0630503, 19.9415052)\n",
      "Cinema City, współrzędne: (50.0535588, 19.954899)\n",
      "Cinema Under the Rams, współrzędne: (50.061521, 19.9354229)\n",
      "Wawel Royal Castle, współrzędne: (50.0541115, 19.935423)\n",
      "Kijów Cinema, współrzędne: (50.05826219999999, 19.924945)\n",
      "Muzeum Uniwersytetu Jagiellońskiego Collegium Maius, współrzędne: (50.06156389999999, 19.9339308)\n",
      "Bunkier - Gallery of Contemporary Art, współrzędne: (50.06082439999999, 19.9366343)\n",
      "Kurant, współrzędne: (50.06281010000001, 19.9371409)\n",
      "Wawel Royal Castle, współrzędne: (50.0541115, 19.935423)\n",
      "Akwa Marin Olivier Ossywa, współrzędne: (50.05495500000001, 19.9241173)\n",
      "Kurort Sp Z O O, współrzędne: (50.0667325, 19.9268069)\n",
      "VRepublic - Virtual Reality Park, współrzędne: (50.0489601, 19.9577937)\n",
      "Kijów Cinema, współrzędne: (50.05826219999999, 19.924945)\n",
      "Jama Michalika | Est. 1895, współrzędne: (50.0640872, 19.9408794)\n",
      "Żabka, współrzędne: (50.059185, 19.9448165)\n",
      "Da Grasso, współrzędne: (50.0556606, 19.9464566)\n",
      "Sklep i Wytwórnia Lodów Naturalnych \"DELIKATESOWO\", współrzędne: (50.05005449999999, 19.9622858)\n",
      "Strefa Piwa, współrzędne: (50.0693388, 19.9366929)\n",
      "Pauza, współrzędne: (50.0604618, 19.9389495)\n",
      "Manzana Restaurant, współrzędne: (50.052145, 19.946066)\n",
      "C.K. Browar | Bar & Restaurant | Est. 1996, współrzędne: (50.06341349999999, 19.93261099999999)\n",
      "Krakowskie Wypieki, współrzędne: (50.0685636, 19.94669559999999)\n",
      "Cupcake Corner, współrzędne: (50.0604282, 19.936414)\n",
      "Subway, współrzędne: (50.06050500000001, 19.9364778)\n",
      "Da Marco, współrzędne: (50.06695459999999, 19.97134699999999)\n",
      "Centrum DER-MED Kraków, współrzędne: (50.0677695, 19.9398342)\n",
      "e-pcu.pl, współrzędne: (50.06873489999999, 19.927246)\n",
      "Harris Piano Jazz Bar, współrzędne: (50.061725, 19.935568)\n",
      "MAX-FLIZ VIP GOLD - Stadion Miejski im. Henryka Reymana, współrzędne: (50.06389969999999, 19.9105955)\n",
      "Źródło, współrzędne: (50.0592834, 19.9324837)\n",
      "Stadion Miejski im. Henryka Reymana, współrzędne: (50.0637025, 19.9117977)\n",
      "Planty Dietlowskie, współrzędne: (50.05366899999999, 19.9432516)\n",
      "Botanical Garden of the Jagiellonian University, współrzędne: (50.0635669, 19.9555311)\n",
      "Park Inn by Radisson Krakow, współrzędne: (50.047459, 19.9297859)\n",
      "Flo, współrzędne: (50.0667538, 19.94540330000001)\n",
      "Żabka, współrzędne: (50.059185, 19.9448165)\n",
      "Goldenmark, współrzędne: (50.06433120000001, 19.9467171)\n",
      "Strefa Piwa, współrzędne: (50.0693388, 19.9366929)\n",
      "Galeria Kazimierz, współrzędne: (50.0536197, 19.9554304)\n",
      "Ann Marie Lov - Sex shop. Kraków Dietla 73, współrzędne: (50.05455579999999, 19.9444063)\n",
      "Boutique Aparthotel, współrzędne: (50.0595396, 19.93749439999999)\n",
      "Vitkac Kraków, współrzędne: (50.06015960000001, 19.9380095)\n",
      "Kurant, współrzędne: (50.06281010000001, 19.9371409)\n",
      "Galeria Krakowska, współrzędne: (50.0662682, 19.9461205)\n",
      "Zapraszamy na zakupy online www.urbanflavours.pl Urban Flavours Czapki New Era Cap I Inne., współrzędne: (50.063698, 19.9453557)\n",
      "Rodpol - Złoto Biżuteria Antyki Monety, współrzędne: (50.0558851, 19.9456999)\n",
      "Apart, współrzędne: (50.0669742, 19.9454433)\n",
      "Coco Butik - Sex Shop Kraków, współrzędne: (50.0505017, 19.9414648)\n",
      "Bonito.pl, współrzędne: (50.0671887, 19.9305473)\n",
      "Sklep i Wytwórnia Lodów Naturalnych \"DELIKATESOWO\", współrzędne: (50.05005449999999, 19.9622858)\n",
      "Główna Księgarnia Naukowa, współrzędne: (50.063174, 19.9323464)\n"
     ]
    }
   ],
   "source": [
    "from my_nlp_module import user_handler\n",
    "from datetime import datetime\n",
    "\n",
    "user_preferences = {'nightlife': 0.13586715459823606, 'christianity': 0.2641089591715071, 'judaism': 0.23523988525072737, 'hinduism': 0.12414621661106745, 'islam': 0.0, 'car_services': 0.17760687271753947, 'culture': 0.31209163031092396, 'food_and_drink': 0.23561079038514032, 'sports_and_fitness': 0.06975500285625458, 'wellness': 0.233438245455424, 'family_entertainment': 0.2411984403928121, 'shopping': 0.0, 'travel_services': 0.21448883761962256}\n",
    "user_destination = 'Cracow'\n",
    "#city_coordinates = (50.04, 19.94)\n",
    "user_start_datatime = datetime(2023,6, 1, 13)\n",
    "user_end_datatime = datetime(2023,6, 4, 17)\n",
    "public_transport_accept = False\n",
    "bicycle_travel_accept = False\n",
    "car_travel_accept = False\n",
    "cost_rate = 4 #scale from 0 to 4\n",
    "travel_with = user_handler.TravelWith.alone\n",
    "\n",
    "user = user_handler.User(user_preferences, user_destination, user_start_datatime, user_end_datatime, public_transport_accept, bicycle_travel_accept, car_travel_accept, cost_rate, travel_with)"
   ]
  }
 ],
 "metadata": {
  "kernelspec": {
   "display_name": "Python 3.8.0 ('env_travel': venv)",
   "language": "python",
   "name": "python3"
  },
  "language_info": {
   "codemirror_mode": {
    "name": "ipython",
    "version": 3
   },
   "file_extension": ".py",
   "mimetype": "text/x-python",
   "name": "python",
   "nbconvert_exporter": "python",
   "pygments_lexer": "ipython3",
   "version": "3.8.0"
  },
  "orig_nbformat": 4,
  "vscode": {
   "interpreter": {
    "hash": "852b24a3c12234881657de8ecf1bd30bab1f5bc4003f571117b6bf41918c1690"
   }
  }
 },
 "nbformat": 4,
 "nbformat_minor": 2
}
