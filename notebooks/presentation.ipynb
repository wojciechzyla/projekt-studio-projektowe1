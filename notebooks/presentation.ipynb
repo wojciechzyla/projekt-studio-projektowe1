{
 "cells": [
  {
   "cell_type": "code",
   "execution_count": 5,
   "metadata": {},
   "outputs": [],
   "source": [
    "import os\n",
    "import sys\n",
    "module_path = os.path.abspath(os.path.join('..'))\n",
    "if module_path not in sys.path:\n",
    "    sys.path.append(module_path)\n",
    "\n",
    "from my_nlp_module.user_preferences import UserPreferences\n",
    "from my_nlp_module.similarities_calculation import SentenceTransformerSimilarity\n",
    "from sentence_transformers import SentenceTransformer\n",
    "import json\n",
    "from my_nlp_module.preprocessing import PrepOption\n"
   ]
  },
  {
   "cell_type": "code",
   "execution_count": 6,
   "metadata": {},
   "outputs": [],
   "source": [
    "model = SentenceTransformer('all-MiniLM-L6-v2')"
   ]
  },
  {
   "cell_type": "code",
   "execution_count": 7,
   "metadata": {},
   "outputs": [],
   "source": [
    "templates = {}\n",
    "with open(\"../json/templates.json\") as f:\n",
    "    templates = json.load(f)\n",
    "\n",
    "options = [PrepOption.NUMBERS, PrepOption.LOWERCASE, PrepOption.RUBBISH, PrepOption.INTERPUNCTION]\n",
    "calculations = SentenceTransformerSimilarity(model, [])"
   ]
  },
  {
   "cell_type": "code",
   "execution_count": 8,
   "metadata": {},
   "outputs": [],
   "source": [
    "users = []\n",
    "users_path = \"../users/user\"\n",
    "for i in range(1,5):\n",
    "    user_p = users_path + f\"{i}\"\n",
    "    u = UserPreferences(templates=templates, calculation=calculations)\n",
    "    for j in range(1, 6):\n",
    "        file_path = user_p + f\"/text{j}.txt\"\n",
    "        inp = \"\"\n",
    "        with open(file_path) as f:\n",
    "            inp = f.read()\n",
    "        u.add_text(inp)\n",
    "    u.calculate_preferences()\n",
    "    users.append(u)"
   ]
  },
  {
   "cell_type": "code",
   "execution_count": 9,
   "metadata": {},
   "outputs": [
    {
     "name": "stdout",
     "output_type": "stream",
     "text": [
      "['You are a traveler who wants to enjoy some night life, do a lot of shopping and stay in expensive places']\n",
      "['shopping', 'culture', 'nightlife', 'car_services', 'wellness', 'family_entertainment', 'travel_services', 'judaism', 'food_and_drink', 'christianity', 'hinduism', 'islam', 'sports_and_fitness']\n",
      "\n",
      "\n",
      "\n",
      "[\"You are a traveler who wants to visit natural sights, and experience culture. You would also like to try local food. You are also a religious person and you can't miss a mass. You can afford moderate prices\"]\n",
      "['culture', 'christianity', 'family_entertainment', 'food_and_drink', 'judaism', 'wellness', 'travel_services', 'car_services', 'nightlife', 'hinduism', 'sports_and_fitness', 'islam', 'shopping']\n",
      "\n",
      "\n",
      "\n",
      "['You are a traveler who likes using a car while traveling. You fancy sport activities, historical sights and after the long day you want to relax in spa. You absolutely dislike pubs, parties and drinking']\n",
      "['wellness', 'culture', 'sports_and_fitness', 'car_services', 'nightlife', 'family_entertainment', 'food_and_drink', 'judaism', 'shopping', 'christianity', 'hinduism', 'islam', 'travel_services']\n",
      "\n",
      "\n",
      "\n",
      "['You are a traveller who travels with family. You want to visit some amusement parks, try local food. You would like to rent a car so that you can get around easily. You are also a Jew and it is important for you to visit jewish religious places.']\n",
      "['judaism', 'food_and_drink', 'family_entertainment', 'car_services', 'culture', 'nightlife', 'christianity', 'sports_and_fitness', 'hinduism', 'shopping', 'islam', 'wellness', 'travel_services']\n",
      "\n",
      "\n",
      "\n"
     ]
    }
   ],
   "source": [
    "user_summary = {}\n",
    "with open(\"../users/summary.json\") as f:\n",
    "    user_summary = json.load(f)\n",
    "\n",
    "def n_exp(x):\n",
    "    if \"expensive\" not in x and \"cheap\" not in x:\n",
    "        return True\n",
    "    else:\n",
    "        return False\n",
    "\n",
    "for i, u in enumerate(users):\n",
    "    summary = user_summary[f\"user{i+1}\"]\n",
    "    sim = u.get_preferences()\n",
    "    attr = []\n",
    "    for k, v in sim.items():\n",
    "        attr.append([k, v])\n",
    "    attr = map(lambda a: a[0], sorted(attr, key=lambda x: x[1], reverse=True))\n",
    "    not_expenses = filter(n_exp, list(attr))\n",
    "    not_expenses = list(not_expenses)\n",
    "    print(summary)\n",
    "    print(list(not_expenses))\n",
    "    #print(f\"cheap travel: {sim['cheap_travel']} | expensive travel: {sim['expensive_travel']}\")\n",
    "    print(\"\\n\\n\")"
   ]
  },
  {
   "cell_type": "code",
   "execution_count": 10,
   "metadata": {},
   "outputs": [
    {
     "data": {
      "application/vnd.jupyter.widget-view+json": {
       "model_id": "1783e71956474454872bb696b6a2e6e8",
       "version_major": 2,
       "version_minor": 0
      },
      "text/plain": [
       "Figure(layout=FigureLayout(height='420px'))"
      ]
     },
     "metadata": {},
     "output_type": "display_data"
    },
    {
     "name": "stdout",
     "output_type": "stream",
     "text": [
      "For this day we prepare for you such a places to see:\n",
      "C.K. Browar | Bar & Restaurant | Est. 1996\n",
      "Casino kasyno w Krakowie online\n",
      "\n",
      "\n",
      "Here is link to google maps for your daily trip:\n",
      "https://www.google.com/maps/dir/?api=1&origin=C.K.Browar|Bar&Restaurant|Est.1996&origin_place_id=ChIJf4Etug5bFkcRyq0rJ_UpcGk&destination=CasinokasynowKrakowieonline&destination_place_id=ChIJm4c1AAhbFkcRZYfE15YnNjk&wtravelmodeatravelmodeltravelmodektravelmodeitravelmodentravelmodeg\n"
     ]
    },
    {
     "data": {
      "application/vnd.jupyter.widget-view+json": {
       "model_id": "54b15fe4df5141c8956d2a1808dc2c2a",
       "version_major": 2,
       "version_minor": 0
      },
      "text/plain": [
       "Figure(layout=FigureLayout(height='420px'))"
      ]
     },
     "metadata": {},
     "output_type": "display_data"
    },
    {
     "name": "stdout",
     "output_type": "stream",
     "text": [
      "For this day we prepare for you such a places to see:\n",
      "Marshal Józef Piłsudski Stadium\n",
      "Cinema Under the Rams\n",
      "Harris Piano Jazz Bar\n",
      "Finger Guest Rooms Krakow Apartment nearby Main Railway and Bus Station\n",
      "\n",
      "\n",
      "Here is link to google maps for your daily trip:\n",
      "https://www.google.com/maps/dir/?api=1&origin=MarshalJózefPiłsudskiStadium&origin_place_id=ChIJHYeWQHVbFkcRdtszia3pM-c&destination=FingerGuestRoomsKrakowApartmentnearbyMainRailwayandBusStation&destination_place_id=ChIJffXetgRbFkcRR3C4egcgn7k&waypoints=CinemaUndertheRams%7CHarrisPianoJazzBar&waypoint_place_ids=ChIJlw8d3A1bFkcR0eb1FhmEWOM%7CChIJVRXd3g1bFkcR3YhJENxffY8&wtravelmodeatravelmodeltravelmodektravelmodeitravelmodentravelmodeg\n"
     ]
    },
    {
     "data": {
      "application/vnd.jupyter.widget-view+json": {
       "model_id": "c3930154284147d5b58f71bd30c438a6",
       "version_major": 2,
       "version_minor": 0
      },
      "text/plain": [
       "Figure(layout=FigureLayout(height='420px'))"
      ]
     },
     "metadata": {},
     "output_type": "display_data"
    },
    {
     "name": "stdout",
     "output_type": "stream",
     "text": [
      "For this day we prepare for you such a places to see:\n",
      "Centrum DER-MED Kraków\n",
      "Kijów Cinema\n",
      "Lustrzany Labirynt\n",
      "Akwa Marin Olivier Ossywa\n",
      "\n",
      "\n",
      "Here is link to google maps for your daily trip:\n",
      "https://www.google.com/maps/dir/?api=1&origin=CentrumDER-MEDKraków&origin_place_id=ChIJiyB8UA5bFkcRcy2qNqVY0O4&destination=AkwaMarinOlivierOssywa&destination_place_id=ChIJBzEuc3RbFkcRqYxV0LzsO6s&waypoints=KijówCinema%7CLustrzanyLabirynt&waypoint_place_ids=ChIJbVilzHRbFkcRRVLlOC1cpQk%7CChIJEcaQbxJbFkcR3p5Xq9m9dEE&wtravelmodeatravelmodeltravelmodektravelmodeitravelmodentravelmodeg\n"
     ]
    },
    {
     "data": {
      "application/vnd.jupyter.widget-view+json": {
       "model_id": "3dd4735c3804478c8e3698e4e4dbd20f",
       "version_major": 2,
       "version_minor": 0
      },
      "text/plain": [
       "Figure(layout=FigureLayout(height='420px'))"
      ]
     },
     "metadata": {},
     "output_type": "display_data"
    },
    {
     "name": "stdout",
     "output_type": "stream",
     "text": [
      "For this day we prepare for you such a places to see:\n",
      "Glamour Hair & Beauty Studio\n",
      "Kijów Cinema\n",
      "\n",
      "\n",
      "Here is link to google maps for your daily trip:\n",
      "https://www.google.com/maps/dir/?api=1&origin=GlamourHair&BeautyStudio&origin_place_id=ChIJ00LfVhhbFkcRstvrI_nB3Tg&destination=KijówCinema&destination_place_id=ChIJbVilzHRbFkcRRVLlOC1cpQk&wtravelmodeatravelmodeltravelmodektravelmodeitravelmodentravelmodeg\n",
      "\n",
      "\n",
      "Other places, which can be interesting for you:\n",
      "Rynek Główny, współrzędne: (50.0618971, 19.936756)\n",
      "Kurant, współrzędne: (50.06281010000001, 19.9371409)\n",
      "Galicia Jewish Museum, współrzędne: (50.05084040000001, 19.9497073)\n",
      "Bunkier - Gallery of Contemporary Art, współrzędne: (50.06082439999999, 19.9366343)\n",
      "Wawel Royal Castle, współrzędne: (50.0541115, 19.935423)\n",
      "Galeria Anna, współrzędne: (50.0630503, 19.9415052)\n",
      "Wawel Royal Castle, współrzędne: (50.0541115, 19.935423)\n",
      "Cinema City, współrzędne: (50.0535588, 19.954899)\n",
      "Muzeum Uniwersytetu Jagiellońskiego Collegium Maius, współrzędne: (50.06156389999999, 19.9339308)\n",
      "TomorrowLand. Centrum atrakcji, współrzędne: (50.06230499999999, 19.939519)\n",
      "Kurort Sp Z O O, współrzędne: (50.0667325, 19.9268069)\n",
      "Bowling Plac Nowy 1, współrzędne: (50.05141829999999, 19.9454059)\n",
      "Manzana Restaurant, współrzędne: (50.052145, 19.946066)\n",
      "Pauza, współrzędne: (50.0604618, 19.9389495)\n",
      "Jama Michalika | Est. 1895, współrzędne: (50.0640872, 19.9408794)\n",
      "Krakowskie Wypieki, współrzędne: (50.0685636, 19.94669559999999)\n",
      "Bagelmama, współrzędne: (50.0516104, 19.9494566)\n",
      "Sklep i Wytwórnia Lodów Naturalnych \"DELIKATESOWO\", współrzędne: (50.05005449999999, 19.9622858)\n",
      "Da Marco, współrzędne: (50.06695459999999, 19.97134699999999)\n",
      "Subway, współrzędne: (50.06050500000001, 19.9364778)\n",
      "Da Marco, współrzędne: (50.06695459999999, 19.97134699999999)\n",
      "Żabka, współrzędne: (50.059185, 19.9448165)\n",
      "Strefa Piwa, współrzędne: (50.0693388, 19.9366929)\n",
      "Da Grasso, współrzędne: (50.0556606, 19.9464566)\n",
      "Cupcake Corner, współrzędne: (50.0604282, 19.936414)\n",
      "Margo, współrzędne: (50.0705979, 19.9346034)\n",
      "Vulkan Vegas, współrzędne: (50.068074, 19.9454772)\n",
      "PROMINENT The Original Lounge Bar, współrzędne: (50.0752525, 19.9409675)\n",
      "Cristal Casino, współrzędne: (50.0429756, 19.9458802)\n",
      "Planty Dietlowskie, współrzędne: (50.05366899999999, 19.9432516)\n",
      "MAX-FLIZ VIP GOLD - Stadion Miejski im. Henryka Reymana, współrzędne: (50.06389969999999, 19.9105955)\n",
      "Botanical Garden of the Jagiellonian University, współrzędne: (50.0635669, 19.9555311)\n",
      "Park Inn by Radisson Krakow, współrzędne: (50.047459, 19.9297859)\n",
      "Stadion Miejski im. Henryka Reymana, współrzędne: (50.0635362, 19.9118517)\n",
      "Źródło, współrzędne: (50.0592834, 19.9324837)\n",
      "Kurant, współrzędne: (50.06281010000001, 19.9371409)\n",
      "Galeria Krakowska, współrzędne: (50.0662682, 19.9461205)\n",
      "Boutique Aparthotel, współrzędne: (50.0595396, 19.93749439999999)\n",
      "Żabka, współrzędne: (50.059185, 19.9448165)\n",
      "Apart, współrzędne: (50.0669742, 19.9454433)\n",
      "Flo, współrzędne: (50.0667538, 19.94540330000001)\n",
      "Bonito.pl, współrzędne: (50.0671887, 19.9305473)\n",
      "Ann Marie Lov - Sex shop. Kraków Dietla 73, współrzędne: (50.05455579999999, 19.9444063)\n",
      "Główna Księgarnia Naukowa, współrzędne: (50.063174, 19.9323464)\n",
      "Goldenmark, współrzędne: (50.06433120000001, 19.9467171)\n",
      "Galeria Kazimierz, współrzędne: (50.0536197, 19.9554304)\n",
      "Coco Butik - Sex Shop Kraków, współrzędne: (50.0505017, 19.9414648)\n",
      "Zapraszamy na zakupy online www.urbanflavours.pl Urban Flavours Czapki New Era Cap I Inne., współrzędne: (50.063698, 19.9453557)\n",
      "Strefa Piwa, współrzędne: (50.0693388, 19.9366929)\n",
      "Vitkac Kraków, współrzędne: (50.06015960000001, 19.9380095)\n",
      "Rodpol - Złoto Biżuteria Antyki Monety, współrzędne: (50.0558851, 19.9456999)\n",
      "Sklep i Wytwórnia Lodów Naturalnych \"DELIKATESOWO\", współrzędne: (50.05005449999999, 19.9622858)\n"
     ]
    }
   ],
   "source": [
    "from my_nlp_module import user_handler\n",
    "from datetime import datetime\n",
    "\n",
    "user_preferences = {'nightlife': 0.13586715459823606, 'christianity': 0.2641089591715071, 'judaism': 0.23523988525072737, 'hinduism': 0.12414621661106745, 'islam': 0.0, 'car_services': 0.17760687271753947, 'culture': 0.31209163031092396, 'food_and_drink': 0.23561079038514032, 'sports_and_fitness': 0.06975500285625458, 'wellness': 0.233438245455424, 'family_entertainment': 0.2411984403928121, 'shopping': 0.0, 'travel_services': 0.21448883761962256}\n",
    "user_destination = 'Cracow'\n",
    "#city_coordinates = (50.04, 19.94)\n",
    "user_start_datatime = datetime(2023,6, 1, 13)\n",
    "user_end_datatime = datetime(2023,6, 4, 17)\n",
    "public_transport_accept = False\n",
    "bicycle_travel_accept = False\n",
    "car_travel_accept = False\n",
    "cost_rate = 4 #scale from 0 to 4\n",
    "travel_with = user_handler.TravelWith.alone\n",
    "\n",
    "user = user_handler.User(user_preferences, user_destination, user_start_datatime, user_end_datatime, public_transport_accept, bicycle_travel_accept, car_travel_accept, cost_rate, travel_with)"
   ]
  },
  {
   "cell_type": "code",
   "execution_count": 11,
   "metadata": {},
   "outputs": [
    {
     "data": {
      "text/plain": [
       "4"
      ]
     },
     "execution_count": 11,
     "metadata": {},
     "output_type": "execute_result"
    }
   ],
   "source": [
    "user.get_days_number()"
   ]
  },
  {
   "cell_type": "code",
   "execution_count": 12,
   "metadata": {},
   "outputs": [
    {
     "data": {
      "text/plain": [
       "['C.K. Browar | Bar & Restaurant | Est. 1996',\n",
       " 'Casino kasyno w Krakowie online']"
      ]
     },
     "execution_count": 12,
     "metadata": {},
     "output_type": "execute_result"
    }
   ],
   "source": [
    "user.get_daily_places_list(0)"
   ]
  },
  {
   "cell_type": "code",
   "execution_count": 13,
   "metadata": {},
   "outputs": [
    {
     "data": {
      "text/plain": [
       "'https://www.google.com/maps/dir/?api=1&origin=C.K.Browar|Bar&Restaurant|Est.1996&origin_place_id=ChIJf4Etug5bFkcRyq0rJ_UpcGk&destination=CasinokasynowKrakowieonline&destination_place_id=ChIJm4c1AAhbFkcRZYfE15YnNjk&wtravelmodeatravelmodeltravelmodektravelmodeitravelmodentravelmodeg'"
      ]
     },
     "execution_count": 13,
     "metadata": {},
     "output_type": "execute_result"
    }
   ],
   "source": [
    "user.get_daily_url_link(0)"
   ]
  },
  {
   "cell_type": "code",
   "execution_count": 14,
   "metadata": {},
   "outputs": [
    {
     "data": {
      "text/plain": [
       "[('Rynek Główny', '(50.0618971, 19.936756)'),\n",
       " ('Kurant', '(50.06281010000001, 19.9371409)'),\n",
       " ('Galicia Jewish Museum', '(50.05084040000001, 19.9497073)'),\n",
       " ('Bunkier - Gallery of Contemporary Art', '(50.06082439999999, 19.9366343)'),\n",
       " ('Wawel Royal Castle', '(50.0541115, 19.935423)'),\n",
       " ('Galeria Anna', '(50.0630503, 19.9415052)'),\n",
       " ('Wawel Royal Castle', '(50.0541115, 19.935423)'),\n",
       " ('Cinema City', '(50.0535588, 19.954899)'),\n",
       " ('Muzeum Uniwersytetu Jagiellońskiego Collegium Maius',\n",
       "  '(50.06156389999999, 19.9339308)'),\n",
       " ('TomorrowLand. Centrum atrakcji', '(50.06230499999999, 19.939519)'),\n",
       " ('Kurort Sp Z O O', '(50.0667325, 19.9268069)'),\n",
       " ('Bowling Plac Nowy 1', '(50.05141829999999, 19.9454059)'),\n",
       " ('Manzana Restaurant', '(50.052145, 19.946066)'),\n",
       " ('Pauza', '(50.0604618, 19.9389495)'),\n",
       " ('Jama Michalika | Est. 1895', '(50.0640872, 19.9408794)'),\n",
       " ('Krakowskie Wypieki', '(50.0685636, 19.94669559999999)'),\n",
       " ('Bagelmama', '(50.0516104, 19.9494566)'),\n",
       " ('Sklep i Wytwórnia Lodów Naturalnych \"DELIKATESOWO\"',\n",
       "  '(50.05005449999999, 19.9622858)'),\n",
       " ('Da Marco', '(50.06695459999999, 19.97134699999999)'),\n",
       " ('Subway', '(50.06050500000001, 19.9364778)'),\n",
       " ('Da Marco', '(50.06695459999999, 19.97134699999999)'),\n",
       " ('Żabka', '(50.059185, 19.9448165)'),\n",
       " ('Strefa Piwa', '(50.0693388, 19.9366929)'),\n",
       " ('Da Grasso', '(50.0556606, 19.9464566)'),\n",
       " ('Cupcake Corner', '(50.0604282, 19.936414)'),\n",
       " ('Margo', '(50.0705979, 19.9346034)'),\n",
       " ('Vulkan Vegas', '(50.068074, 19.9454772)'),\n",
       " ('PROMINENT The Original Lounge Bar', '(50.0752525, 19.9409675)'),\n",
       " ('Cristal Casino', '(50.0429756, 19.9458802)'),\n",
       " ('Planty Dietlowskie', '(50.05366899999999, 19.9432516)'),\n",
       " ('MAX-FLIZ VIP GOLD - Stadion Miejski im. Henryka Reymana',\n",
       "  '(50.06389969999999, 19.9105955)'),\n",
       " ('Botanical Garden of the Jagiellonian University',\n",
       "  '(50.0635669, 19.9555311)'),\n",
       " ('Park Inn by Radisson Krakow', '(50.047459, 19.9297859)'),\n",
       " ('Stadion Miejski im. Henryka Reymana', '(50.0635362, 19.9118517)'),\n",
       " ('Źródło', '(50.0592834, 19.9324837)'),\n",
       " ('Kurant', '(50.06281010000001, 19.9371409)'),\n",
       " ('Galeria Krakowska', '(50.0662682, 19.9461205)'),\n",
       " ('Boutique Aparthotel', '(50.0595396, 19.93749439999999)'),\n",
       " ('Żabka', '(50.059185, 19.9448165)'),\n",
       " ('Apart', '(50.0669742, 19.9454433)'),\n",
       " ('Flo', '(50.0667538, 19.94540330000001)'),\n",
       " ('Bonito.pl', '(50.0671887, 19.9305473)'),\n",
       " ('Ann Marie Lov - Sex shop. Kraków Dietla 73',\n",
       "  '(50.05455579999999, 19.9444063)'),\n",
       " ('Główna Księgarnia Naukowa', '(50.063174, 19.9323464)'),\n",
       " ('Goldenmark', '(50.06433120000001, 19.9467171)'),\n",
       " ('Galeria Kazimierz', '(50.0536197, 19.9554304)'),\n",
       " ('Coco Butik - Sex Shop Kraków', '(50.0505017, 19.9414648)'),\n",
       " ('Zapraszamy na zakupy online www.urbanflavours.pl Urban Flavours Czapki New Era Cap I Inne.',\n",
       "  '(50.063698, 19.9453557)'),\n",
       " ('Strefa Piwa', '(50.0693388, 19.9366929)'),\n",
       " ('Vitkac Kraków', '(50.06015960000001, 19.9380095)'),\n",
       " ('Rodpol - Złoto Biżuteria Antyki Monety', '(50.0558851, 19.9456999)'),\n",
       " ('Sklep i Wytwórnia Lodów Naturalnych \"DELIKATESOWO\"',\n",
       "  '(50.05005449999999, 19.9622858)')]"
      ]
     },
     "execution_count": 14,
     "metadata": {},
     "output_type": "execute_result"
    }
   ],
   "source": [
    "user.get_another_places_list()"
   ]
  },
  {
   "cell_type": "code",
   "execution_count": 15,
   "metadata": {},
   "outputs": [
    {
     "data": {
      "application/vnd.jupyter.widget-view+json": {
       "model_id": "1b1962f6e2774932b01e4583f9433cc5",
       "version_major": 2,
       "version_minor": 0
      },
      "text/plain": [
       "Figure(layout=FigureLayout(height='420px'))"
      ]
     },
     "metadata": {},
     "output_type": "display_data"
    }
   ],
   "source": [
    "import gmaps\n",
    "from IPython import display as dsp\n",
    "layer = user.get_daily_interactive_map(0)\n",
    "fig = gmaps.figure()\n",
    "fig.add_layer(layer)\n",
    "dsp.display(fig)"
   ]
  },
  {
   "cell_type": "code",
   "execution_count": null,
   "metadata": {},
   "outputs": [],
   "source": []
  }
 ],
 "metadata": {
  "kernelspec": {
   "display_name": "Python 3.8.0 ('env_travel': venv)",
   "language": "python",
   "name": "python3"
  },
  "language_info": {
   "codemirror_mode": {
    "name": "ipython",
    "version": 3
   },
   "file_extension": ".py",
   "mimetype": "text/x-python",
   "name": "python",
   "nbconvert_exporter": "python",
   "pygments_lexer": "ipython3",
   "version": "3.9.13"
  },
  "orig_nbformat": 4,
  "vscode": {
   "interpreter": {
    "hash": "852b24a3c12234881657de8ecf1bd30bab1f5bc4003f571117b6bf41918c1690"
   }
  }
 },
 "nbformat": 4,
 "nbformat_minor": 2
}
