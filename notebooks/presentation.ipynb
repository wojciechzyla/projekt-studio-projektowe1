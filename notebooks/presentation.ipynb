{
 "cells": [
  {
   "cell_type": "code",
   "execution_count": 1,
   "metadata": {},
   "outputs": [
    {
     "name": "stderr",
     "output_type": "stream",
     "text": [
      "/Users/wojciechzyla/Desktop/AGH/semestr_8/smart_travel/env_travel/lib/python3.8/site-packages/tqdm/auto.py:22: TqdmWarning: IProgress not found. Please update jupyter and ipywidgets. See https://ipywidgets.readthedocs.io/en/stable/user_install.html\n",
      "  from .autonotebook import tqdm as notebook_tqdm\n"
     ]
    }
   ],
   "source": [
    "import os\n",
    "import sys\n",
    "module_path = os.path.abspath(os.path.join('..'))\n",
    "if module_path not in sys.path:\n",
    "    sys.path.append(module_path)\n",
    "\n",
    "from my_nlp_module.user_preferences import UserPreferences\n",
    "from my_nlp_module.similarities_calculation import SentenceTransformerSimilarity\n",
    "from sentence_transformers import SentenceTransformer\n",
    "import json\n",
    "from my_nlp_module.preprocessing import PrepOption\n"
   ]
  },
  {
   "cell_type": "code",
   "execution_count": 2,
   "metadata": {},
   "outputs": [],
   "source": [
    "model = SentenceTransformer('all-MiniLM-L6-v2')"
   ]
  },
  {
   "cell_type": "code",
   "execution_count": 3,
   "metadata": {},
   "outputs": [],
   "source": [
    "templates = {}\n",
    "with open(\"../json/templates.json\") as f:\n",
    "    templates = json.load(f)\n",
    "\n",
    "options = [PrepOption.NUMBERS, PrepOption.LOWERCASE, PrepOption.RUBBISH, PrepOption.INTERPUNCTION]\n",
    "calculations = SentenceTransformerSimilarity(model, [])"
   ]
  },
  {
   "cell_type": "code",
   "execution_count": 4,
   "metadata": {},
   "outputs": [],
   "source": [
    "users = []\n",
    "users_path = \"../users/user\"\n",
    "for i in range(1,5):\n",
    "    user_p = users_path + f\"{i}\"\n",
    "    u = UserPreferences(templates=templates, calculation=calculations)\n",
    "    for j in range(1, 6):\n",
    "        file_path = user_p + f\"/text{j}.txt\"\n",
    "        inp = \"\"\n",
    "        with open(file_path) as f:\n",
    "            inp = f.read()\n",
    "        u.add_text(inp)\n",
    "    u.calculate_preferences()\n",
    "    users.append(u)"
   ]
  },
  {
   "cell_type": "code",
   "execution_count": 5,
   "metadata": {},
   "outputs": [
    {
     "name": "stdout",
     "output_type": "stream",
     "text": [
      "['You are a traveler who wants to enjoy some night life, do a lot of shopping and stay in expensive places']\n",
      "['shopping', 'culture', 'nightlife', 'car_services', 'wellness', 'family_entertainment', 'travel_services', 'judaism', 'food_and_drink', 'christianity', 'hinduism', 'islam', 'sports_and_fitness']\n",
      "cheap travel: 0.2866917213907948 | expensive travel: 0.4067755556768841\n",
      "\n",
      "\n",
      "\n",
      "[\"You are a traveler who wants to visit natural sights, and experience culture. You would also like to try local food. You are also a religious person and you can't miss a mass. You can afford moderate prices\"]\n",
      "['culture', 'christianity', 'family_entertainment', 'food_and_drink', 'judaism', 'wellness', 'travel_services', 'car_services', 'nightlife', 'hinduism', 'sports_and_fitness', 'islam', 'shopping']\n",
      "cheap travel: 0.3031673202084171 | expensive travel: 0.306722619191364\n",
      "\n",
      "\n",
      "\n",
      "['You are a traveler who likes using a car while traveling. You fancy sport activities, historical sights and after the long day you want to relax in spa. You absolutely dislike pubs, parties and drinking']\n",
      "['wellness', 'culture', 'sports_and_fitness', 'car_services', 'nightlife', 'family_entertainment', 'food_and_drink', 'judaism', 'shopping', 'christianity', 'hinduism', 'islam', 'travel_services']\n",
      "cheap travel: 0.2982593883104898 | expensive travel: 0.3107103644007886\n",
      "\n",
      "\n",
      "\n",
      "['You are a traveller who travels with family. You want to visit some amusement parks, try local food. You would like to rent a car so that you can get around easily. You are also a Jew and it is important for you to visit jewish religious places.']\n",
      "['judaism', 'food_and_drink', 'family_entertainment', 'car_services', 'culture', 'nightlife', 'christianity', 'sports_and_fitness', 'hinduism', 'shopping', 'islam', 'wellness', 'travel_services']\n",
      "cheap travel: 0.27129706004471105 | expensive travel: 0.253595119804368\n",
      "\n",
      "\n",
      "\n"
     ]
    }
   ],
   "source": [
    "user_summary = {}\n",
    "with open(\"../users/summary.json\") as f:\n",
    "    user_summary = json.load(f)\n",
    "\n",
    "def n_exp(x):\n",
    "    if \"expensive\" not in x and \"cheap\" not in x:\n",
    "        return True\n",
    "    else:\n",
    "        return False\n",
    "\n",
    "for i, u in enumerate(users):\n",
    "    summary = user_summary[f\"user{i+1}\"]\n",
    "    sim = u.get_preferences()\n",
    "    attr = []\n",
    "    for k, v in sim.items():\n",
    "        attr.append([k, v])\n",
    "    attr = map(lambda a: a[0], sorted(attr, key=lambda x: x[1], reverse=True))\n",
    "    not_expenses = filter(n_exp, list(attr))\n",
    "    not_expenses = list(not_expenses)\n",
    "    print(summary)\n",
    "    print(list(not_expenses))\n",
    "    print(f\"cheap travel: {sim['cheap_travel']} | expensive travel: {sim['expensive_travel']}\")\n",
    "    print(\"\\n\\n\")"
   ]
  }
 ],
 "metadata": {
  "kernelspec": {
   "display_name": "Python 3.8.0 ('env_travel': venv)",
   "language": "python",
   "name": "python3"
  },
  "language_info": {
   "codemirror_mode": {
    "name": "ipython",
    "version": 3
   },
   "file_extension": ".py",
   "mimetype": "text/x-python",
   "name": "python",
   "nbconvert_exporter": "python",
   "pygments_lexer": "ipython3",
   "version": "3.8.0"
  },
  "orig_nbformat": 4,
  "vscode": {
   "interpreter": {
    "hash": "852b24a3c12234881657de8ecf1bd30bab1f5bc4003f571117b6bf41918c1690"
   }
  }
 },
 "nbformat": 4,
 "nbformat_minor": 2
}
