{
 "cells": [
  {
   "cell_type": "code",
   "execution_count": 1,
   "metadata": {},
   "outputs": [
    {
     "name": "stderr",
     "output_type": "stream",
     "text": [
      "/Users/wojciechzyla/Desktop/smart_travel/env_travel/lib/python3.8/site-packages/tqdm/auto.py:22: TqdmWarning: IProgress not found. Please update jupyter and ipywidgets. See https://ipywidgets.readthedocs.io/en/stable/user_install.html\n",
      "  from .autonotebook import tqdm as notebook_tqdm\n"
     ]
    }
   ],
   "source": [
    "import os\n",
    "import sys\n",
    "module_path = os.path.abspath(os.path.join('..'))\n",
    "if module_path not in sys.path:\n",
    "    sys.path.append(module_path)\n",
    "\n",
    "from my_nlp_module.user_preferences import UserPreferences\n",
    "from my_nlp_module.similarities_calculation import SentenceTransformerSimilarity\n",
    "from sentence_transformers import SentenceTransformer\n",
    "import json\n",
    "from my_nlp_module.preprocessing import PrepOption\n"
   ]
  },
  {
   "cell_type": "code",
   "execution_count": 2,
   "metadata": {},
   "outputs": [
    {
     "name": "stderr",
     "output_type": "stream",
     "text": [
      "Downloading (…)a8e1d/.gitattributes: 100%|██████████| 1.18k/1.18k [00:00<00:00, 101kB/s]\n",
      "Downloading (…)_Pooling/config.json: 100%|██████████| 190/190 [00:00<00:00, 30.6kB/s]\n",
      "Downloading (…)b20bca8e1d/README.md: 100%|██████████| 10.6k/10.6k [00:00<00:00, 2.18MB/s]\n",
      "Downloading (…)0bca8e1d/config.json: 100%|██████████| 571/571 [00:00<00:00, 96.2kB/s]\n",
      "Downloading (…)ce_transformers.json: 100%|██████████| 116/116 [00:00<00:00, 19.4kB/s]\n",
      "Downloading (…)e1d/data_config.json: 100%|██████████| 39.3k/39.3k [00:00<00:00, 352kB/s]\n",
      "Downloading pytorch_model.bin: 100%|██████████| 438M/438M [00:17<00:00, 25.0MB/s] \n",
      "Downloading (…)nce_bert_config.json: 100%|██████████| 53.0/53.0 [00:00<00:00, 11.3kB/s]\n",
      "Downloading (…)cial_tokens_map.json: 100%|██████████| 239/239 [00:00<00:00, 45.2kB/s]\n",
      "Downloading (…)a8e1d/tokenizer.json: 100%|██████████| 466k/466k [00:00<00:00, 1.02MB/s]\n",
      "Downloading (…)okenizer_config.json: 100%|██████████| 363/363 [00:00<00:00, 66.7kB/s]\n",
      "Downloading (…)8e1d/train_script.py: 100%|██████████| 13.1k/13.1k [00:00<00:00, 2.09MB/s]\n",
      "Downloading (…)b20bca8e1d/vocab.txt: 100%|██████████| 232k/232k [00:00<00:00, 680kB/s]\n",
      "Downloading (…)bca8e1d/modules.json: 100%|██████████| 349/349 [00:00<00:00, 81.2kB/s]\n"
     ]
    }
   ],
   "source": [
    "model = SentenceTransformer('all-mpnet-base-v2')"
   ]
  },
  {
   "cell_type": "code",
   "execution_count": 3,
   "metadata": {},
   "outputs": [],
   "source": [
    "templates = {}\n",
    "with open(\"../json/categories.json\") as f:\n",
    "    templates = json.load(f)\n",
    "\n",
    "options = [PrepOption.NUMBERS, PrepOption.LOWERCASE, PrepOption.RUBBISH, PrepOption.INTERPUNCTION]\n",
    "calculations = SentenceTransformerSimilarity(model, [])"
   ]
  },
  {
   "cell_type": "code",
   "execution_count": 4,
   "metadata": {},
   "outputs": [],
   "source": [
    "users = []\n",
    "users_path = \"../users/user\"\n",
    "for i in range(1,4):\n",
    "    user_p = users_path + f\"{i}\"\n",
    "    u = UserPreferences(templates=templates, calculation=calculations)\n",
    "    for j in range(1, 6):\n",
    "        file_path = user_p + f\"/text{j}.txt\"\n",
    "        inp = \"\"\n",
    "        with open(file_path) as f:\n",
    "            inp = f.read()\n",
    "        u.add_text(inp)\n",
    "    u.calculate_preferences()\n",
    "    users.append(u)"
   ]
  },
  {
   "cell_type": "code",
   "execution_count": 5,
   "metadata": {},
   "outputs": [
    {
     "name": "stdout",
     "output_type": "stream",
     "text": [
      "['You are a traveler who wants to enjoy some night life, do a lot of shopping and stay in expensive places']\n",
      "['shopping', 'nightlife', 'entertainment', 'accommodation', 'culture', 'car_services', 'wellness', 'travel_services', 'food_and_drink', 'religion', 'sports_and_fitness']\n",
      "cheap travel: 0.3396317358646128 | expensive travel: 0.3925101479722394\n",
      "cheap transport: 0.2386404378914539 | expensive transport: 0.2544471157921685\n",
      "\n",
      "\n",
      "\n",
      "[\"You are a traveler who wants to visit natural sights, and experience culture. You would also like to try local food. You are also a religious person and you can't miss a mass. You can afford moderate prices\"]\n",
      "['food_and_drink', 'religion', 'entertainment', 'accommodation', 'travel_services', 'nightlife', 'culture', 'wellness', 'car_services', 'shopping', 'sports_and_fitness']\n",
      "cheap travel: 0.408963425954183 | expensive travel: 0.30188695098514906\n",
      "cheap transport: 0.24820773055156073 | expensive transport: 0.2379010518391927\n",
      "\n",
      "\n",
      "\n",
      "['You are a traveler who likes using a car while traveling. You fancy sport activities, historical sights and after the long day you want to relax in spa. You absolutely dislike pubs, parties and drinking']\n",
      "['car_services', 'culture', 'entertainment', 'wellness', 'nightlife', 'accommodation', 'sports_and_fitness', 'travel_services', 'food_and_drink', 'religion', 'shopping']\n",
      "cheap travel: 0.33401873706391566 | expensive travel: 0.2914509187142054\n",
      "cheap transport: 0.27202848821050596 | expensive transport: 0.38102869648072457\n",
      "\n",
      "\n",
      "\n"
     ]
    }
   ],
   "source": [
    "user_summary = {}\n",
    "with open(\"../users/summary.json\") as f:\n",
    "    user_summary = json.load(f)\n",
    "\n",
    "def n_exp(x):\n",
    "    if \"expensive\" not in x and \"cheap\" not in x:\n",
    "        return True\n",
    "    else:\n",
    "        return False\n",
    "\n",
    "for i, u in enumerate(users):\n",
    "    summary = user_summary[f\"user{i+1}\"]\n",
    "    sim = u.get_preferences()\n",
    "    attr = []\n",
    "    for k, v in sim.items():\n",
    "        attr.append([k, v])\n",
    "    attr = map(lambda a: a[0], sorted(attr, key=lambda x: x[1], reverse=True))\n",
    "    not_expenses = filter(n_exp, list(attr))\n",
    "    not_expenses = list(not_expenses)\n",
    "    print(summary)\n",
    "    print(list(not_expenses))\n",
    "    print(f\"cheap travel: {sim['cheap_travel']} | expensive travel: {sim['expensive_travel']}\")\n",
    "    print(f\"cheap transport: {sim['cheap_transport']} | expensive transport: {sim['expensive_transport']}\")\n",
    "    print(\"\\n\\n\")"
   ]
  },
  {
   "cell_type": "code",
   "execution_count": 6,
   "metadata": {},
   "outputs": [],
   "source": [
    "model = SentenceTransformer('all-MiniLM-L6-v2')\n",
    "calculations = SentenceTransformerSimilarity(model, [])\n",
    "\n",
    "users = []\n",
    "users_path = \"../users/user\"\n",
    "for i in range(1,4):\n",
    "    user_p = users_path + f\"{i}\"\n",
    "    u = UserPreferences(templates=templates, calculation=calculations)\n",
    "    for j in range(1, 6):\n",
    "        file_path = user_p + f\"/text{j}.txt\"\n",
    "        inp = \"\"\n",
    "        with open(file_path) as f:\n",
    "            inp = f.read()\n",
    "        u.add_text(inp)\n",
    "    u.calculate_preferences()\n",
    "    users.append(u)"
   ]
  },
  {
   "cell_type": "code",
   "execution_count": 7,
   "metadata": {},
   "outputs": [
    {
     "name": "stdout",
     "output_type": "stream",
     "text": [
      "['You are a traveler who wants to enjoy some night life, do a lot of shopping and stay in expensive places']\n",
      "['entertainment', 'accommodation', 'shopping', 'nightlife', 'culture', 'car_services', 'wellness', 'travel_services', 'food_and_drink', 'religion', 'sports_and_fitness']\n",
      "cheap travel: 0.2866916950378153 | expensive travel: 0.4067755556768841\n",
      "cheap transport: 0.24057025379604763 | expensive transport: 0.23107899808221394\n",
      "\n",
      "\n",
      "\n",
      "[\"You are a traveler who wants to visit natural sights, and experience culture. You would also like to try local food. You are also a religious person and you can't miss a mass. You can afford moderate prices\"]\n",
      "['religion', 'entertainment', 'nightlife', 'culture', 'accommodation', 'food_and_drink', 'wellness', 'travel_services', 'car_services', 'sports_and_fitness', 'shopping']\n",
      "cheap travel: 0.30316732354738096 | expensive travel: 0.306722619191364\n",
      "cheap transport: 0.25473547528187435 | expensive transport: 0.0\n",
      "\n",
      "\n",
      "\n",
      "['You are a traveler who likes using a car while traveling. You fancy sport activities, historical sights and after the long day you want to relax in spa. You absolutely dislike pubs, parties and drinking']\n",
      "['entertainment', 'wellness', 'sports_and_fitness', 'culture', 'car_services', 'nightlife', 'accommodation', 'food_and_drink', 'religion', 'shopping', 'travel_services']\n",
      "cheap travel: 0.2982593946572807 | expensive travel: 0.3107103644007886\n",
      "cheap transport: 0.2447444225351016 | expensive transport: 0.29630408849981094\n",
      "\n",
      "\n",
      "\n"
     ]
    }
   ],
   "source": [
    "user_summary = {}\n",
    "with open(\"../users/summary.json\") as f:\n",
    "    user_summary = json.load(f)\n",
    "\n",
    "def n_exp(x):\n",
    "    if \"expensive\" not in x and \"cheap\" not in x:\n",
    "        return True\n",
    "    else:\n",
    "        return False\n",
    "\n",
    "for i, u in enumerate(users):\n",
    "    summary = user_summary[f\"user{i+1}\"]\n",
    "    sim = u.get_preferences()\n",
    "    attr = []\n",
    "    for k, v in sim.items():\n",
    "        attr.append([k, v])\n",
    "    attr = map(lambda a: a[0], sorted(attr, key=lambda x: x[1], reverse=True))\n",
    "    not_expenses = filter(n_exp, list(attr))\n",
    "    not_expenses = list(not_expenses)\n",
    "    print(summary)\n",
    "    print(list(not_expenses))\n",
    "    print(f\"cheap travel: {sim['cheap_travel']} | expensive travel: {sim['expensive_travel']}\")\n",
    "    print(f\"cheap transport: {sim['cheap_transport']} | expensive transport: {sim['expensive_transport']}\")\n",
    "    print(\"\\n\\n\")"
   ]
  }
 ],
 "metadata": {
  "kernelspec": {
   "display_name": "Python 3.8.0 ('env_travel': venv)",
   "language": "python",
   "name": "python3"
  },
  "language_info": {
   "codemirror_mode": {
    "name": "ipython",
    "version": 3
   },
   "file_extension": ".py",
   "mimetype": "text/x-python",
   "name": "python",
   "nbconvert_exporter": "python",
   "pygments_lexer": "ipython3",
   "version": "3.8.0"
  },
  "orig_nbformat": 4,
  "vscode": {
   "interpreter": {
    "hash": "a867fab74cd67586c6d03978805c3c3f7465035773807af503c86ba1d423217f"
   }
  }
 },
 "nbformat": 4,
 "nbformat_minor": 2
}
